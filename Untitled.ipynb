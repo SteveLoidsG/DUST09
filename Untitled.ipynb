{
 "cells": [
  {
   "cell_type": "code",
   "execution_count": 2,
   "id": "1816702f",
   "metadata": {},
   "outputs": [
    {
     "name": "stdout",
     "output_type": "stream",
     "text": [
      "Enter the name:steve\n",
      "Enter the rollno:23\n",
      "The name is steve and the rollno is 23\n"
     ]
    }
   ],
   "source": [
    "a = input(\"Enter the name:\")\n",
    "b = input(\"Enter the rollno:\")\n",
    "print(f\"The name is {a} and the rollno is {b}\")"
   ]
  },
  {
   "cell_type": "code",
   "execution_count": 7,
   "id": "97c93a62",
   "metadata": {},
   "outputs": [
    {
     "name": "stdout",
     "output_type": "stream",
     "text": [
      "Enter a numberds\n",
      "Invalid Input\n"
     ]
    }
   ],
   "source": [
    "try:\n",
    "    num = int(input(\"Enter a number\"))\n",
    "    print(num)\n",
    "except ValueError:\n",
    "    print(\"Invalid Input\")"
   ]
  }
 ],
 "metadata": {
  "kernelspec": {
   "display_name": "Python 3 (ipykernel)",
   "language": "python",
   "name": "python3"
  },
  "language_info": {
   "codemirror_mode": {
    "name": "ipython",
    "version": 3
   },
   "file_extension": ".py",
   "mimetype": "text/x-python",
   "name": "python",
   "nbconvert_exporter": "python",
   "pygments_lexer": "ipython3",
   "version": "3.10.9"
  }
 },
 "nbformat": 4,
 "nbformat_minor": 5
}
